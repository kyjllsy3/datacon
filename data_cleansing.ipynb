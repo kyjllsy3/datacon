{
 "cells": [
  {
   "cell_type": "markdown",
   "id": "14fa134d",
   "metadata": {},
   "source": [
    "# 유형별 임대주택 설계 시 단지 내 적정 주차 수요를 예측"
   ]
  },
  {
   "cell_type": "code",
   "execution_count": 1,
   "id": "126d4b90",
   "metadata": {},
   "outputs": [],
   "source": [
    "## 기본 설치\n",
    "import pandas as pd\n",
    "import numpy as np\n",
    "from sklearn.ensemble import RandomForestRegressor\n",
    "from tqdm import tqdm"
   ]
  },
  {
   "cell_type": "code",
   "execution_count": 2,
   "id": "73d0fc9c",
   "metadata": {},
   "outputs": [],
   "source": [
    "## 데이터 읽기\n",
    "train = pd.read_csv('./data/train.csv')\n",
    "test = pd.read_csv('./data/test.csv')\n",
    "submission = pd.read_csv('./data/sample_submission.csv')"
   ]
  },
  {
   "cell_type": "code",
   "execution_count": 3,
   "id": "73c0cde2",
   "metadata": {},
   "outputs": [
    {
     "data": {
      "text/plain": [
       "((2952, 15), (1022, 14))"
      ]
     },
     "execution_count": 3,
     "metadata": {},
     "output_type": "execute_result"
    }
   ],
   "source": [
    "train.shape, test.shape"
   ]
  },
  {
   "cell_type": "code",
   "execution_count": 4,
   "id": "f6a68c23",
   "metadata": {},
   "outputs": [
    {
     "data": {
      "text/html": [
       "<div>\n",
       "<style scoped>\n",
       "    .dataframe tbody tr th:only-of-type {\n",
       "        vertical-align: middle;\n",
       "    }\n",
       "\n",
       "    .dataframe tbody tr th {\n",
       "        vertical-align: top;\n",
       "    }\n",
       "\n",
       "    .dataframe thead th {\n",
       "        text-align: right;\n",
       "    }\n",
       "</style>\n",
       "<table border=\"1\" class=\"dataframe\">\n",
       "  <thead>\n",
       "    <tr style=\"text-align: right;\">\n",
       "      <th></th>\n",
       "      <th>단지코드</th>\n",
       "      <th>총세대수</th>\n",
       "      <th>임대건물구분</th>\n",
       "      <th>지역</th>\n",
       "      <th>공급유형</th>\n",
       "      <th>전용면적</th>\n",
       "      <th>전용면적별세대수</th>\n",
       "      <th>공가수</th>\n",
       "      <th>자격유형</th>\n",
       "      <th>임대보증금</th>\n",
       "      <th>임대료</th>\n",
       "      <th>도보 10분거리 내 지하철역 수(환승노선 수 반영)</th>\n",
       "      <th>도보 10분거리 내 버스정류장 수</th>\n",
       "      <th>단지내주차면수</th>\n",
       "      <th>등록차량수</th>\n",
       "    </tr>\n",
       "  </thead>\n",
       "  <tbody>\n",
       "    <tr>\n",
       "      <th>0</th>\n",
       "      <td>C2483</td>\n",
       "      <td>900</td>\n",
       "      <td>아파트</td>\n",
       "      <td>경상북도</td>\n",
       "      <td>국민임대</td>\n",
       "      <td>39.72</td>\n",
       "      <td>134</td>\n",
       "      <td>38.0</td>\n",
       "      <td>A</td>\n",
       "      <td>15667000</td>\n",
       "      <td>103680</td>\n",
       "      <td>0.0</td>\n",
       "      <td>3.0</td>\n",
       "      <td>1425.0</td>\n",
       "      <td>1015.0</td>\n",
       "    </tr>\n",
       "    <tr>\n",
       "      <th>1</th>\n",
       "      <td>C2483</td>\n",
       "      <td>900</td>\n",
       "      <td>아파트</td>\n",
       "      <td>경상북도</td>\n",
       "      <td>국민임대</td>\n",
       "      <td>39.72</td>\n",
       "      <td>15</td>\n",
       "      <td>38.0</td>\n",
       "      <td>A</td>\n",
       "      <td>15667000</td>\n",
       "      <td>103680</td>\n",
       "      <td>0.0</td>\n",
       "      <td>3.0</td>\n",
       "      <td>1425.0</td>\n",
       "      <td>1015.0</td>\n",
       "    </tr>\n",
       "    <tr>\n",
       "      <th>2</th>\n",
       "      <td>C2483</td>\n",
       "      <td>900</td>\n",
       "      <td>아파트</td>\n",
       "      <td>경상북도</td>\n",
       "      <td>국민임대</td>\n",
       "      <td>51.93</td>\n",
       "      <td>385</td>\n",
       "      <td>38.0</td>\n",
       "      <td>A</td>\n",
       "      <td>27304000</td>\n",
       "      <td>184330</td>\n",
       "      <td>0.0</td>\n",
       "      <td>3.0</td>\n",
       "      <td>1425.0</td>\n",
       "      <td>1015.0</td>\n",
       "    </tr>\n",
       "    <tr>\n",
       "      <th>3</th>\n",
       "      <td>C2483</td>\n",
       "      <td>900</td>\n",
       "      <td>아파트</td>\n",
       "      <td>경상북도</td>\n",
       "      <td>국민임대</td>\n",
       "      <td>51.93</td>\n",
       "      <td>15</td>\n",
       "      <td>38.0</td>\n",
       "      <td>A</td>\n",
       "      <td>27304000</td>\n",
       "      <td>184330</td>\n",
       "      <td>0.0</td>\n",
       "      <td>3.0</td>\n",
       "      <td>1425.0</td>\n",
       "      <td>1015.0</td>\n",
       "    </tr>\n",
       "    <tr>\n",
       "      <th>4</th>\n",
       "      <td>C2483</td>\n",
       "      <td>900</td>\n",
       "      <td>아파트</td>\n",
       "      <td>경상북도</td>\n",
       "      <td>국민임대</td>\n",
       "      <td>51.93</td>\n",
       "      <td>41</td>\n",
       "      <td>38.0</td>\n",
       "      <td>A</td>\n",
       "      <td>27304000</td>\n",
       "      <td>184330</td>\n",
       "      <td>0.0</td>\n",
       "      <td>3.0</td>\n",
       "      <td>1425.0</td>\n",
       "      <td>1015.0</td>\n",
       "    </tr>\n",
       "  </tbody>\n",
       "</table>\n",
       "</div>"
      ],
      "text/plain": [
       "    단지코드  총세대수 임대건물구분    지역  공급유형   전용면적  전용면적별세대수   공가수 자격유형     임대보증금  \\\n",
       "0  C2483   900    아파트  경상북도  국민임대  39.72       134  38.0    A  15667000   \n",
       "1  C2483   900    아파트  경상북도  국민임대  39.72        15  38.0    A  15667000   \n",
       "2  C2483   900    아파트  경상북도  국민임대  51.93       385  38.0    A  27304000   \n",
       "3  C2483   900    아파트  경상북도  국민임대  51.93        15  38.0    A  27304000   \n",
       "4  C2483   900    아파트  경상북도  국민임대  51.93        41  38.0    A  27304000   \n",
       "\n",
       "      임대료  도보 10분거리 내 지하철역 수(환승노선 수 반영)  도보 10분거리 내 버스정류장 수  단지내주차면수   등록차량수  \n",
       "0  103680                           0.0                 3.0   1425.0  1015.0  \n",
       "1  103680                           0.0                 3.0   1425.0  1015.0  \n",
       "2  184330                           0.0                 3.0   1425.0  1015.0  \n",
       "3  184330                           0.0                 3.0   1425.0  1015.0  \n",
       "4  184330                           0.0                 3.0   1425.0  1015.0  "
      ]
     },
     "execution_count": 4,
     "metadata": {},
     "output_type": "execute_result"
    }
   ],
   "source": [
    "train.head()"
   ]
  },
  {
   "cell_type": "code",
   "execution_count": 5,
   "id": "26a5e56b",
   "metadata": {},
   "outputs": [
    {
     "data": {
      "text/html": [
       "<div>\n",
       "<style scoped>\n",
       "    .dataframe tbody tr th:only-of-type {\n",
       "        vertical-align: middle;\n",
       "    }\n",
       "\n",
       "    .dataframe tbody tr th {\n",
       "        vertical-align: top;\n",
       "    }\n",
       "\n",
       "    .dataframe thead th {\n",
       "        text-align: right;\n",
       "    }\n",
       "</style>\n",
       "<table border=\"1\" class=\"dataframe\">\n",
       "  <thead>\n",
       "    <tr style=\"text-align: right;\">\n",
       "      <th></th>\n",
       "      <th>단지코드</th>\n",
       "      <th>총세대수</th>\n",
       "      <th>임대건물구분</th>\n",
       "      <th>지역</th>\n",
       "      <th>공급유형</th>\n",
       "      <th>전용면적</th>\n",
       "      <th>전용면적별세대수</th>\n",
       "      <th>공가수</th>\n",
       "      <th>자격유형</th>\n",
       "      <th>임대보증금</th>\n",
       "      <th>임대료</th>\n",
       "      <th>도보 10분거리 내 지하철역 수(환승노선 수 반영)</th>\n",
       "      <th>도보 10분거리 내 버스정류장 수</th>\n",
       "      <th>단지내주차면수</th>\n",
       "    </tr>\n",
       "  </thead>\n",
       "  <tbody>\n",
       "    <tr>\n",
       "      <th>0</th>\n",
       "      <td>C1072</td>\n",
       "      <td>754</td>\n",
       "      <td>아파트</td>\n",
       "      <td>경기도</td>\n",
       "      <td>국민임대</td>\n",
       "      <td>39.79</td>\n",
       "      <td>116</td>\n",
       "      <td>14.0</td>\n",
       "      <td>H</td>\n",
       "      <td>22830000</td>\n",
       "      <td>189840</td>\n",
       "      <td>0.0</td>\n",
       "      <td>2.0</td>\n",
       "      <td>683.0</td>\n",
       "    </tr>\n",
       "    <tr>\n",
       "      <th>1</th>\n",
       "      <td>C1072</td>\n",
       "      <td>754</td>\n",
       "      <td>아파트</td>\n",
       "      <td>경기도</td>\n",
       "      <td>국민임대</td>\n",
       "      <td>46.81</td>\n",
       "      <td>30</td>\n",
       "      <td>14.0</td>\n",
       "      <td>A</td>\n",
       "      <td>36048000</td>\n",
       "      <td>249930</td>\n",
       "      <td>0.0</td>\n",
       "      <td>2.0</td>\n",
       "      <td>683.0</td>\n",
       "    </tr>\n",
       "    <tr>\n",
       "      <th>2</th>\n",
       "      <td>C1072</td>\n",
       "      <td>754</td>\n",
       "      <td>아파트</td>\n",
       "      <td>경기도</td>\n",
       "      <td>국민임대</td>\n",
       "      <td>46.90</td>\n",
       "      <td>112</td>\n",
       "      <td>14.0</td>\n",
       "      <td>H</td>\n",
       "      <td>36048000</td>\n",
       "      <td>249930</td>\n",
       "      <td>0.0</td>\n",
       "      <td>2.0</td>\n",
       "      <td>683.0</td>\n",
       "    </tr>\n",
       "    <tr>\n",
       "      <th>3</th>\n",
       "      <td>C1072</td>\n",
       "      <td>754</td>\n",
       "      <td>아파트</td>\n",
       "      <td>경기도</td>\n",
       "      <td>국민임대</td>\n",
       "      <td>46.90</td>\n",
       "      <td>120</td>\n",
       "      <td>14.0</td>\n",
       "      <td>H</td>\n",
       "      <td>36048000</td>\n",
       "      <td>249930</td>\n",
       "      <td>0.0</td>\n",
       "      <td>2.0</td>\n",
       "      <td>683.0</td>\n",
       "    </tr>\n",
       "    <tr>\n",
       "      <th>4</th>\n",
       "      <td>C1072</td>\n",
       "      <td>754</td>\n",
       "      <td>아파트</td>\n",
       "      <td>경기도</td>\n",
       "      <td>국민임대</td>\n",
       "      <td>51.46</td>\n",
       "      <td>60</td>\n",
       "      <td>14.0</td>\n",
       "      <td>H</td>\n",
       "      <td>43497000</td>\n",
       "      <td>296780</td>\n",
       "      <td>0.0</td>\n",
       "      <td>2.0</td>\n",
       "      <td>683.0</td>\n",
       "    </tr>\n",
       "  </tbody>\n",
       "</table>\n",
       "</div>"
      ],
      "text/plain": [
       "    단지코드  총세대수 임대건물구분   지역  공급유형   전용면적  전용면적별세대수   공가수 자격유형     임대보증금  \\\n",
       "0  C1072   754    아파트  경기도  국민임대  39.79       116  14.0    H  22830000   \n",
       "1  C1072   754    아파트  경기도  국민임대  46.81        30  14.0    A  36048000   \n",
       "2  C1072   754    아파트  경기도  국민임대  46.90       112  14.0    H  36048000   \n",
       "3  C1072   754    아파트  경기도  국민임대  46.90       120  14.0    H  36048000   \n",
       "4  C1072   754    아파트  경기도  국민임대  51.46        60  14.0    H  43497000   \n",
       "\n",
       "      임대료  도보 10분거리 내 지하철역 수(환승노선 수 반영)  도보 10분거리 내 버스정류장 수  단지내주차면수  \n",
       "0  189840                           0.0                 2.0    683.0  \n",
       "1  249930                           0.0                 2.0    683.0  \n",
       "2  249930                           0.0                 2.0    683.0  \n",
       "3  249930                           0.0                 2.0    683.0  \n",
       "4  296780                           0.0                 2.0    683.0  "
      ]
     },
     "execution_count": 5,
     "metadata": {},
     "output_type": "execute_result"
    }
   ],
   "source": [
    "test.head()"
   ]
  },
  {
   "cell_type": "code",
   "execution_count": 6,
   "id": "2d7f2c7e",
   "metadata": {},
   "outputs": [
    {
     "data": {
      "text/plain": [
       "Index(['단지코드', '총세대수', '임대건물구분', '지역', '공급유형', '전용면적', '전용면적별세대수', '공가수',\n",
       "       '자격유형', '임대보증금', '임대료', '도보 10분거리 내 지하철역 수(환승노선 수 반영)',\n",
       "       '도보 10분거리 내 버스정류장 수', '단지내주차면수', '등록차량수'],\n",
       "      dtype='object')"
      ]
     },
     "execution_count": 6,
     "metadata": {},
     "output_type": "execute_result"
    }
   ],
   "source": [
    "train.columns"
   ]
  },
  {
   "cell_type": "code",
   "execution_count": 7,
   "id": "b6067201",
   "metadata": {},
   "outputs": [
    {
     "data": {
      "text/plain": [
       "Index(['단지코드', '총세대수', '임대건물구분', '지역', '공급유형', '전용면적', '전용면적별세대수', '공가수',\n",
       "       '자격유형', '임대보증금', '임대료', '도보 10분거리 내 지하철역 수(환승노선 수 반영)',\n",
       "       '도보 10분거리 내 버스정류장 수', '단지내주차면수'],\n",
       "      dtype='object')"
      ]
     },
     "execution_count": 7,
     "metadata": {},
     "output_type": "execute_result"
    }
   ],
   "source": [
    "test.columns"
   ]
  },
  {
   "cell_type": "code",
   "execution_count": 8,
   "id": "0d3848c6",
   "metadata": {},
   "outputs": [
    {
     "data": {
      "text/plain": [
       "단지코드                             object\n",
       "총세대수                              int64\n",
       "임대건물구분                           object\n",
       "지역                               object\n",
       "공급유형                             object\n",
       "전용면적                            float64\n",
       "전용면적별세대수                          int64\n",
       "공가수                             float64\n",
       "자격유형                             object\n",
       "임대보증금                            object\n",
       "임대료                              object\n",
       "도보 10분거리 내 지하철역 수(환승노선 수 반영)    float64\n",
       "도보 10분거리 내 버스정류장 수              float64\n",
       "단지내주차면수                         float64\n",
       "등록차량수                           float64\n",
       "dtype: object"
      ]
     },
     "execution_count": 8,
     "metadata": {},
     "output_type": "execute_result"
    }
   ],
   "source": [
    "train.dtypes"
   ]
  },
  {
   "cell_type": "code",
   "execution_count": 9,
   "id": "07dde767",
   "metadata": {},
   "outputs": [
    {
     "data": {
      "text/plain": [
       "단지코드                             object\n",
       "총세대수                              int64\n",
       "임대건물구분                           object\n",
       "지역                               object\n",
       "공급유형                             object\n",
       "전용면적                            float64\n",
       "전용면적별세대수                          int64\n",
       "공가수                             float64\n",
       "자격유형                             object\n",
       "임대보증금                            object\n",
       "임대료                              object\n",
       "도보 10분거리 내 지하철역 수(환승노선 수 반영)    float64\n",
       "도보 10분거리 내 버스정류장 수              float64\n",
       "단지내주차면수                         float64\n",
       "dtype: object"
      ]
     },
     "execution_count": 9,
     "metadata": {},
     "output_type": "execute_result"
    }
   ],
   "source": [
    "test.dtypes"
   ]
  },
  {
   "cell_type": "code",
   "execution_count": 11,
   "id": "b1661ef9",
   "metadata": {},
   "outputs": [
    {
     "name": "stdout",
     "output_type": "stream",
     "text": [
      "<class 'pandas.core.frame.DataFrame'>\n",
      "RangeIndex: 2952 entries, 0 to 2951\n",
      "Data columns (total 15 columns):\n",
      " #   Column                        Non-Null Count  Dtype  \n",
      "---  ------                        --------------  -----  \n",
      " 0   단지코드                          2952 non-null   object \n",
      " 1   총세대수                          2952 non-null   int64  \n",
      " 2   임대건물구분                        2952 non-null   object \n",
      " 3   지역                            2952 non-null   object \n",
      " 4   공급유형                          2952 non-null   object \n",
      " 5   전용면적                          2952 non-null   float64\n",
      " 6   전용면적별세대수                      2952 non-null   int64  \n",
      " 7   공가수                           2952 non-null   float64\n",
      " 8   자격유형                          2952 non-null   object \n",
      " 9   임대보증금                         2383 non-null   object \n",
      " 10  임대료                           2383 non-null   object \n",
      " 11  도보 10분거리 내 지하철역 수(환승노선 수 반영)  2741 non-null   float64\n",
      " 12  도보 10분거리 내 버스정류장 수            2948 non-null   float64\n",
      " 13  단지내주차면수                       2952 non-null   float64\n",
      " 14  등록차량수                         2952 non-null   float64\n",
      "dtypes: float64(6), int64(2), object(7)\n",
      "memory usage: 346.1+ KB\n"
     ]
    }
   ],
   "source": [
    "train.info()"
   ]
  },
  {
   "cell_type": "markdown",
   "id": "7886b871",
   "metadata": {},
   "source": [
    "### 임대보증금, 임대료, 도보 10분 거리 내 지하철역 수, 도보 10분 거리 내 버스정류장 수 Null 존재"
   ]
  },
  {
   "cell_type": "code",
   "execution_count": 12,
   "id": "0b2f1251",
   "metadata": {},
   "outputs": [
    {
     "name": "stdout",
     "output_type": "stream",
     "text": [
      "<class 'pandas.core.frame.DataFrame'>\n",
      "RangeIndex: 1022 entries, 0 to 1021\n",
      "Data columns (total 14 columns):\n",
      " #   Column                        Non-Null Count  Dtype  \n",
      "---  ------                        --------------  -----  \n",
      " 0   단지코드                          1022 non-null   object \n",
      " 1   총세대수                          1022 non-null   int64  \n",
      " 2   임대건물구분                        1022 non-null   object \n",
      " 3   지역                            1022 non-null   object \n",
      " 4   공급유형                          1022 non-null   object \n",
      " 5   전용면적                          1022 non-null   float64\n",
      " 6   전용면적별세대수                      1022 non-null   int64  \n",
      " 7   공가수                           1022 non-null   float64\n",
      " 8   자격유형                          1020 non-null   object \n",
      " 9   임대보증금                         842 non-null    object \n",
      " 10  임대료                           842 non-null    object \n",
      " 11  도보 10분거리 내 지하철역 수(환승노선 수 반영)  980 non-null    float64\n",
      " 12  도보 10분거리 내 버스정류장 수            1022 non-null   float64\n",
      " 13  단지내주차면수                       1022 non-null   float64\n",
      "dtypes: float64(5), int64(2), object(7)\n",
      "memory usage: 111.9+ KB\n"
     ]
    }
   ],
   "source": [
    "test.info()"
   ]
  },
  {
   "cell_type": "markdown",
   "id": "3e5813e3",
   "metadata": {},
   "source": [
    "### 자격유형, 임대보증금, 임대료, 도보 10분거리 내 지하철역 수 Null 존재"
   ]
  },
  {
   "cell_type": "code",
   "execution_count": 13,
   "id": "60caca28",
   "metadata": {},
   "outputs": [
    {
     "data": {
      "text/plain": [
       "국민임대         1758\n",
       "임대상가          562\n",
       "행복주택          213\n",
       "공공임대(10년)     205\n",
       "영구임대          152\n",
       "공공임대(50년)      31\n",
       "공공임대(분납)       12\n",
       "장기전세            9\n",
       "공공분양            7\n",
       "공공임대(5년)        3\n",
       "Name: 공급유형, dtype: int64"
      ]
     },
     "execution_count": 13,
     "metadata": {},
     "output_type": "execute_result"
    }
   ],
   "source": [
    "train.공급유형.value_counts()"
   ]
  },
  {
   "cell_type": "code",
   "execution_count": 14,
   "id": "7397cb73",
   "metadata": {},
   "outputs": [
    {
     "data": {
      "text/plain": [
       "국민임대         622\n",
       "임대상가         177\n",
       "행복주택         124\n",
       "영구임대          45\n",
       "공공임대(10년)     35\n",
       "공공임대(50년)     13\n",
       "공공임대(분납)       6\n",
       "Name: 공급유형, dtype: int64"
      ]
     },
     "execution_count": 14,
     "metadata": {},
     "output_type": "execute_result"
    }
   ],
   "source": [
    "test.공급유형.value_counts()"
   ]
  },
  {
   "cell_type": "markdown",
   "id": "b2f57c16",
   "metadata": {},
   "source": [
    "### 공급유형 종류 : 국민임대, 임대상가, 행복주택, 영구음대, 공공임대(10년, 50년, 분납), 장기전세, 공공분양"
   ]
  },
  {
   "cell_type": "code",
   "execution_count": 15,
   "id": "dad51d10",
   "metadata": {},
   "outputs": [
    {
     "data": {
      "text/plain": [
       "아파트    2390\n",
       "상가      562\n",
       "Name: 임대건물구분, dtype: int64"
      ]
     },
     "execution_count": 15,
     "metadata": {},
     "output_type": "execute_result"
    }
   ],
   "source": [
    "train.임대건물구분.value_counts()"
   ]
  },
  {
   "cell_type": "code",
   "execution_count": 16,
   "id": "0e3ea25e",
   "metadata": {},
   "outputs": [
    {
     "data": {
      "text/plain": [
       "아파트    845\n",
       "상가     177\n",
       "Name: 임대건물구분, dtype: int64"
      ]
     },
     "execution_count": 16,
     "metadata": {},
     "output_type": "execute_result"
    }
   ],
   "source": [
    "test.임대건물구분.value_counts()"
   ]
  },
  {
   "cell_type": "markdown",
   "id": "d154b822",
   "metadata": {},
   "source": [
    "### 임대건물구분 종류: 아파트, 상가"
   ]
  },
  {
   "cell_type": "code",
   "execution_count": 17,
   "id": "b6c80777",
   "metadata": {},
   "outputs": [
    {
     "data": {
      "text/plain": [
       "A    1801\n",
       "D     569\n",
       "H     155\n",
       "J     114\n",
       "C      95\n",
       "I      49\n",
       "E      37\n",
       "L      33\n",
       "K      33\n",
       "N      30\n",
       "B      21\n",
       "G       9\n",
       "F       3\n",
       "M       2\n",
       "O       1\n",
       "Name: 자격유형, dtype: int64"
      ]
     },
     "execution_count": 17,
     "metadata": {},
     "output_type": "execute_result"
    }
   ],
   "source": [
    "train.자격유형.value_counts()"
   ]
  },
  {
   "cell_type": "code",
   "execution_count": 18,
   "id": "c4adcc94",
   "metadata": {},
   "outputs": [
    {
     "data": {
      "text/plain": [
       "A    572\n",
       "D    180\n",
       "H     92\n",
       "J     84\n",
       "C     34\n",
       "K     16\n",
       "L     12\n",
       "E     10\n",
       "N     10\n",
       "I      7\n",
       "M      2\n",
       "G      1\n",
       "Name: 자격유형, dtype: int64"
      ]
     },
     "execution_count": 18,
     "metadata": {},
     "output_type": "execute_result"
    }
   ],
   "source": [
    "test.자격유형.value_counts()"
   ]
  },
  {
   "cell_type": "markdown",
   "id": "204c2526",
   "metadata": {},
   "source": [
    "### 자격유형: A, B, C, D, E, F, G, H, I, J, K, L, M, N, O  15가지 존재"
   ]
  },
  {
   "cell_type": "code",
   "execution_count": 19,
   "id": "0f5e7f2d",
   "metadata": {},
   "outputs": [
    {
     "data": {
      "text/plain": [
       "경기도        621\n",
       "경상남도       369\n",
       "부산광역시      328\n",
       "대전광역시      266\n",
       "강원도        187\n",
       "충청북도       163\n",
       "충청남도       158\n",
       "전라남도       151\n",
       "광주광역시      141\n",
       "경상북도       119\n",
       "전라북도       109\n",
       "대구광역시      102\n",
       "제주특별자치도     91\n",
       "서울특별시       64\n",
       "세종특별자치시     47\n",
       "울산광역시       36\n",
       "Name: 지역, dtype: int64"
      ]
     },
     "execution_count": 19,
     "metadata": {},
     "output_type": "execute_result"
    }
   ],
   "source": [
    "train.지역.value_counts()"
   ]
  },
  {
   "cell_type": "code",
   "execution_count": 21,
   "id": "a4224476",
   "metadata": {},
   "outputs": [
    {
     "data": {
      "text/plain": [
       "경기도        259\n",
       "강원도        106\n",
       "부산광역시       88\n",
       "경상남도        85\n",
       "울산광역시       73\n",
       "경상북도        58\n",
       "대전광역시       56\n",
       "충청북도        51\n",
       "광주광역시       46\n",
       "전라북도        41\n",
       "충청남도        41\n",
       "전라남도        37\n",
       "대구광역시       36\n",
       "제주특별자치도     26\n",
       "세종특별자치시     19\n",
       "Name: 지역, dtype: int64"
      ]
     },
     "execution_count": 21,
     "metadata": {},
     "output_type": "execute_result"
    }
   ],
   "source": [
    "test.지역.value_counts()"
   ]
  },
  {
   "cell_type": "markdown",
   "id": "99d3993b",
   "metadata": {},
   "source": [
    "### 지역은 전국적으로 다양하게 존재"
   ]
  },
  {
   "cell_type": "markdown",
   "id": "10fc4174",
   "metadata": {},
   "source": [
    "## 기타 다른 값 확인"
   ]
  },
  {
   "cell_type": "code",
   "execution_count": 22,
   "id": "5115e6cc",
   "metadata": {},
   "outputs": [
    {
     "data": {
      "text/plain": [
       "C1439    48\n",
       "C2132    47\n",
       "C1859    40\n",
       "C1790    33\n",
       "C2597    32\n",
       "         ..\n",
       "C2651     2\n",
       "C2437     1\n",
       "C2340     1\n",
       "C2520     1\n",
       "C2188     1\n",
       "Name: 단지코드, Length: 423, dtype: int64"
      ]
     },
     "execution_count": 22,
     "metadata": {},
     "output_type": "execute_result"
    }
   ],
   "source": [
    "train.단지코드.value_counts()"
   ]
  },
  {
   "cell_type": "code",
   "execution_count": 23,
   "id": "878fb363",
   "metadata": {},
   "outputs": [
    {
     "data": {
      "text/plain": [
       "C2676    46\n",
       "C2253    31\n",
       "C1812    27\n",
       "C1006    27\n",
       "C2033    25\n",
       "         ..\n",
       "C2335     2\n",
       "C2369     2\n",
       "C2224     2\n",
       "C2423     2\n",
       "C1604     2\n",
       "Name: 단지코드, Length: 150, dtype: int64"
      ]
     },
     "execution_count": 23,
     "metadata": {},
     "output_type": "execute_result"
    }
   ],
   "source": [
    "test.단지코드.value_counts()"
   ]
  },
  {
   "cell_type": "markdown",
   "id": "a70ea299",
   "metadata": {},
   "source": [
    "## 결측치 보기"
   ]
  },
  {
   "cell_type": "code",
   "execution_count": 29,
   "id": "f284ec34",
   "metadata": {},
   "outputs": [],
   "source": [
    "import matplotlib.pyplot as plt\n",
    "import missingno as msno"
   ]
  },
  {
   "cell_type": "code",
   "execution_count": 30,
   "id": "5c6c4079",
   "metadata": {},
   "outputs": [
    {
     "data": {
      "text/plain": [
       "<AxesSubplot:>"
      ]
     },
     "execution_count": 30,
     "metadata": {},
     "output_type": "execute_result"
    },
    {
     "name": "stderr",
     "output_type": "stream",
     "text": [
      "C:\\Users\\kyj\\anaconda3\\lib\\site-packages\\matplotlib\\backends\\backend_agg.py:238: RuntimeWarning: Glyph 45800 missing from current font.\n",
      "  font.set_text(s, 0.0, flags=flags)\n",
      "C:\\Users\\kyj\\anaconda3\\lib\\site-packages\\matplotlib\\backends\\backend_agg.py:238: RuntimeWarning: Glyph 51648 missing from current font.\n",
      "  font.set_text(s, 0.0, flags=flags)\n",
      "C:\\Users\\kyj\\anaconda3\\lib\\site-packages\\matplotlib\\backends\\backend_agg.py:238: RuntimeWarning: Glyph 53076 missing from current font.\n",
      "  font.set_text(s, 0.0, flags=flags)\n",
      "C:\\Users\\kyj\\anaconda3\\lib\\site-packages\\matplotlib\\backends\\backend_agg.py:238: RuntimeWarning: Glyph 46300 missing from current font.\n",
      "  font.set_text(s, 0.0, flags=flags)\n",
      "C:\\Users\\kyj\\anaconda3\\lib\\site-packages\\matplotlib\\backends\\backend_agg.py:238: RuntimeWarning: Glyph 52509 missing from current font.\n",
      "  font.set_text(s, 0.0, flags=flags)\n",
      "C:\\Users\\kyj\\anaconda3\\lib\\site-packages\\matplotlib\\backends\\backend_agg.py:238: RuntimeWarning: Glyph 49464 missing from current font.\n",
      "  font.set_text(s, 0.0, flags=flags)\n",
      "C:\\Users\\kyj\\anaconda3\\lib\\site-packages\\matplotlib\\backends\\backend_agg.py:238: RuntimeWarning: Glyph 45824 missing from current font.\n",
      "  font.set_text(s, 0.0, flags=flags)\n",
      "C:\\Users\\kyj\\anaconda3\\lib\\site-packages\\matplotlib\\backends\\backend_agg.py:238: RuntimeWarning: Glyph 49688 missing from current font.\n",
      "  font.set_text(s, 0.0, flags=flags)\n",
      "C:\\Users\\kyj\\anaconda3\\lib\\site-packages\\matplotlib\\backends\\backend_agg.py:238: RuntimeWarning: Glyph 51076 missing from current font.\n",
      "  font.set_text(s, 0.0, flags=flags)\n",
      "C:\\Users\\kyj\\anaconda3\\lib\\site-packages\\matplotlib\\backends\\backend_agg.py:238: RuntimeWarning: Glyph 44148 missing from current font.\n",
      "  font.set_text(s, 0.0, flags=flags)\n",
      "C:\\Users\\kyj\\anaconda3\\lib\\site-packages\\matplotlib\\backends\\backend_agg.py:238: RuntimeWarning: Glyph 47932 missing from current font.\n",
      "  font.set_text(s, 0.0, flags=flags)\n",
      "C:\\Users\\kyj\\anaconda3\\lib\\site-packages\\matplotlib\\backends\\backend_agg.py:238: RuntimeWarning: Glyph 44396 missing from current font.\n",
      "  font.set_text(s, 0.0, flags=flags)\n",
      "C:\\Users\\kyj\\anaconda3\\lib\\site-packages\\matplotlib\\backends\\backend_agg.py:238: RuntimeWarning: Glyph 48516 missing from current font.\n",
      "  font.set_text(s, 0.0, flags=flags)\n",
      "C:\\Users\\kyj\\anaconda3\\lib\\site-packages\\matplotlib\\backends\\backend_agg.py:238: RuntimeWarning: Glyph 50669 missing from current font.\n",
      "  font.set_text(s, 0.0, flags=flags)\n",
      "C:\\Users\\kyj\\anaconda3\\lib\\site-packages\\matplotlib\\backends\\backend_agg.py:238: RuntimeWarning: Glyph 44277 missing from current font.\n",
      "  font.set_text(s, 0.0, flags=flags)\n",
      "C:\\Users\\kyj\\anaconda3\\lib\\site-packages\\matplotlib\\backends\\backend_agg.py:238: RuntimeWarning: Glyph 44553 missing from current font.\n",
      "  font.set_text(s, 0.0, flags=flags)\n",
      "C:\\Users\\kyj\\anaconda3\\lib\\site-packages\\matplotlib\\backends\\backend_agg.py:238: RuntimeWarning: Glyph 50976 missing from current font.\n",
      "  font.set_text(s, 0.0, flags=flags)\n",
      "C:\\Users\\kyj\\anaconda3\\lib\\site-packages\\matplotlib\\backends\\backend_agg.py:238: RuntimeWarning: Glyph 54805 missing from current font.\n",
      "  font.set_text(s, 0.0, flags=flags)\n",
      "C:\\Users\\kyj\\anaconda3\\lib\\site-packages\\matplotlib\\backends\\backend_agg.py:238: RuntimeWarning: Glyph 51204 missing from current font.\n",
      "  font.set_text(s, 0.0, flags=flags)\n",
      "C:\\Users\\kyj\\anaconda3\\lib\\site-packages\\matplotlib\\backends\\backend_agg.py:238: RuntimeWarning: Glyph 50857 missing from current font.\n",
      "  font.set_text(s, 0.0, flags=flags)\n",
      "C:\\Users\\kyj\\anaconda3\\lib\\site-packages\\matplotlib\\backends\\backend_agg.py:238: RuntimeWarning: Glyph 47732 missing from current font.\n",
      "  font.set_text(s, 0.0, flags=flags)\n",
      "C:\\Users\\kyj\\anaconda3\\lib\\site-packages\\matplotlib\\backends\\backend_agg.py:238: RuntimeWarning: Glyph 51201 missing from current font.\n",
      "  font.set_text(s, 0.0, flags=flags)\n",
      "C:\\Users\\kyj\\anaconda3\\lib\\site-packages\\matplotlib\\backends\\backend_agg.py:238: RuntimeWarning: Glyph 48324 missing from current font.\n",
      "  font.set_text(s, 0.0, flags=flags)\n",
      "C:\\Users\\kyj\\anaconda3\\lib\\site-packages\\matplotlib\\backends\\backend_agg.py:238: RuntimeWarning: Glyph 44032 missing from current font.\n",
      "  font.set_text(s, 0.0, flags=flags)\n",
      "C:\\Users\\kyj\\anaconda3\\lib\\site-packages\\matplotlib\\backends\\backend_agg.py:238: RuntimeWarning: Glyph 51088 missing from current font.\n",
      "  font.set_text(s, 0.0, flags=flags)\n",
      "C:\\Users\\kyj\\anaconda3\\lib\\site-packages\\matplotlib\\backends\\backend_agg.py:238: RuntimeWarning: Glyph 44201 missing from current font.\n",
      "  font.set_text(s, 0.0, flags=flags)\n",
      "C:\\Users\\kyj\\anaconda3\\lib\\site-packages\\matplotlib\\backends\\backend_agg.py:238: RuntimeWarning: Glyph 48372 missing from current font.\n",
      "  font.set_text(s, 0.0, flags=flags)\n",
      "C:\\Users\\kyj\\anaconda3\\lib\\site-packages\\matplotlib\\backends\\backend_agg.py:238: RuntimeWarning: Glyph 51613 missing from current font.\n",
      "  font.set_text(s, 0.0, flags=flags)\n",
      "C:\\Users\\kyj\\anaconda3\\lib\\site-packages\\matplotlib\\backends\\backend_agg.py:238: RuntimeWarning: Glyph 44552 missing from current font.\n",
      "  font.set_text(s, 0.0, flags=flags)\n",
      "C:\\Users\\kyj\\anaconda3\\lib\\site-packages\\matplotlib\\backends\\backend_agg.py:238: RuntimeWarning: Glyph 47308 missing from current font.\n",
      "  font.set_text(s, 0.0, flags=flags)\n",
      "C:\\Users\\kyj\\anaconda3\\lib\\site-packages\\matplotlib\\backends\\backend_agg.py:238: RuntimeWarning: Glyph 46020 missing from current font.\n",
      "  font.set_text(s, 0.0, flags=flags)\n",
      "C:\\Users\\kyj\\anaconda3\\lib\\site-packages\\matplotlib\\backends\\backend_agg.py:238: RuntimeWarning: Glyph 44144 missing from current font.\n",
      "  font.set_text(s, 0.0, flags=flags)\n",
      "C:\\Users\\kyj\\anaconda3\\lib\\site-packages\\matplotlib\\backends\\backend_agg.py:238: RuntimeWarning: Glyph 47532 missing from current font.\n",
      "  font.set_text(s, 0.0, flags=flags)\n",
      "C:\\Users\\kyj\\anaconda3\\lib\\site-packages\\matplotlib\\backends\\backend_agg.py:238: RuntimeWarning: Glyph 45236 missing from current font.\n",
      "  font.set_text(s, 0.0, flags=flags)\n",
      "C:\\Users\\kyj\\anaconda3\\lib\\site-packages\\matplotlib\\backends\\backend_agg.py:238: RuntimeWarning: Glyph 54616 missing from current font.\n",
      "  font.set_text(s, 0.0, flags=flags)\n",
      "C:\\Users\\kyj\\anaconda3\\lib\\site-packages\\matplotlib\\backends\\backend_agg.py:238: RuntimeWarning: Glyph 52384 missing from current font.\n",
      "  font.set_text(s, 0.0, flags=flags)\n",
      "C:\\Users\\kyj\\anaconda3\\lib\\site-packages\\matplotlib\\backends\\backend_agg.py:238: RuntimeWarning: Glyph 54872 missing from current font.\n",
      "  font.set_text(s, 0.0, flags=flags)\n",
      "C:\\Users\\kyj\\anaconda3\\lib\\site-packages\\matplotlib\\backends\\backend_agg.py:238: RuntimeWarning: Glyph 49849 missing from current font.\n",
      "  font.set_text(s, 0.0, flags=flags)\n",
      "C:\\Users\\kyj\\anaconda3\\lib\\site-packages\\matplotlib\\backends\\backend_agg.py:238: RuntimeWarning: Glyph 45432 missing from current font.\n",
      "  font.set_text(s, 0.0, flags=flags)\n",
      "C:\\Users\\kyj\\anaconda3\\lib\\site-packages\\matplotlib\\backends\\backend_agg.py:238: RuntimeWarning: Glyph 49440 missing from current font.\n",
      "  font.set_text(s, 0.0, flags=flags)\n",
      "C:\\Users\\kyj\\anaconda3\\lib\\site-packages\\matplotlib\\backends\\backend_agg.py:238: RuntimeWarning: Glyph 48152 missing from current font.\n",
      "  font.set_text(s, 0.0, flags=flags)\n",
      "C:\\Users\\kyj\\anaconda3\\lib\\site-packages\\matplotlib\\backends\\backend_agg.py:238: RuntimeWarning: Glyph 50689 missing from current font.\n",
      "  font.set_text(s, 0.0, flags=flags)\n",
      "C:\\Users\\kyj\\anaconda3\\lib\\site-packages\\matplotlib\\backends\\backend_agg.py:238: RuntimeWarning: Glyph 48260 missing from current font.\n",
      "  font.set_text(s, 0.0, flags=flags)\n",
      "C:\\Users\\kyj\\anaconda3\\lib\\site-packages\\matplotlib\\backends\\backend_agg.py:238: RuntimeWarning: Glyph 49828 missing from current font.\n",
      "  font.set_text(s, 0.0, flags=flags)\n",
      "C:\\Users\\kyj\\anaconda3\\lib\\site-packages\\matplotlib\\backends\\backend_agg.py:238: RuntimeWarning: Glyph 51221 missing from current font.\n",
      "  font.set_text(s, 0.0, flags=flags)\n",
      "C:\\Users\\kyj\\anaconda3\\lib\\site-packages\\matplotlib\\backends\\backend_agg.py:238: RuntimeWarning: Glyph 47448 missing from current font.\n",
      "  font.set_text(s, 0.0, flags=flags)\n",
      "C:\\Users\\kyj\\anaconda3\\lib\\site-packages\\matplotlib\\backends\\backend_agg.py:238: RuntimeWarning: Glyph 51109 missing from current font.\n",
      "  font.set_text(s, 0.0, flags=flags)\n",
      "C:\\Users\\kyj\\anaconda3\\lib\\site-packages\\matplotlib\\backends\\backend_agg.py:238: RuntimeWarning: Glyph 51452 missing from current font.\n",
      "  font.set_text(s, 0.0, flags=flags)\n",
      "C:\\Users\\kyj\\anaconda3\\lib\\site-packages\\matplotlib\\backends\\backend_agg.py:238: RuntimeWarning: Glyph 52264 missing from current font.\n",
      "  font.set_text(s, 0.0, flags=flags)\n",
      "C:\\Users\\kyj\\anaconda3\\lib\\site-packages\\matplotlib\\backends\\backend_agg.py:238: RuntimeWarning: Glyph 46321 missing from current font.\n",
      "  font.set_text(s, 0.0, flags=flags)\n",
      "C:\\Users\\kyj\\anaconda3\\lib\\site-packages\\matplotlib\\backends\\backend_agg.py:238: RuntimeWarning: Glyph 47197 missing from current font.\n",
      "  font.set_text(s, 0.0, flags=flags)\n",
      "C:\\Users\\kyj\\anaconda3\\lib\\site-packages\\matplotlib\\backends\\backend_agg.py:238: RuntimeWarning: Glyph 47049 missing from current font.\n",
      "  font.set_text(s, 0.0, flags=flags)\n",
      "C:\\Users\\kyj\\anaconda3\\lib\\site-packages\\matplotlib\\backends\\backend_agg.py:201: RuntimeWarning: Glyph 45800 missing from current font.\n",
      "  font.set_text(s, 0, flags=flags)\n"
     ]
    },
    {
     "name": "stderr",
     "output_type": "stream",
     "text": [
      "C:\\Users\\kyj\\anaconda3\\lib\\site-packages\\matplotlib\\backends\\backend_agg.py:201: RuntimeWarning: Glyph 51648 missing from current font.\n",
      "  font.set_text(s, 0, flags=flags)\n",
      "C:\\Users\\kyj\\anaconda3\\lib\\site-packages\\matplotlib\\backends\\backend_agg.py:201: RuntimeWarning: Glyph 53076 missing from current font.\n",
      "  font.set_text(s, 0, flags=flags)\n",
      "C:\\Users\\kyj\\anaconda3\\lib\\site-packages\\matplotlib\\backends\\backend_agg.py:201: RuntimeWarning: Glyph 46300 missing from current font.\n",
      "  font.set_text(s, 0, flags=flags)\n",
      "C:\\Users\\kyj\\anaconda3\\lib\\site-packages\\matplotlib\\backends\\backend_agg.py:201: RuntimeWarning: Glyph 52509 missing from current font.\n",
      "  font.set_text(s, 0, flags=flags)\n",
      "C:\\Users\\kyj\\anaconda3\\lib\\site-packages\\matplotlib\\backends\\backend_agg.py:201: RuntimeWarning: Glyph 49464 missing from current font.\n",
      "  font.set_text(s, 0, flags=flags)\n",
      "C:\\Users\\kyj\\anaconda3\\lib\\site-packages\\matplotlib\\backends\\backend_agg.py:201: RuntimeWarning: Glyph 45824 missing from current font.\n",
      "  font.set_text(s, 0, flags=flags)\n",
      "C:\\Users\\kyj\\anaconda3\\lib\\site-packages\\matplotlib\\backends\\backend_agg.py:201: RuntimeWarning: Glyph 49688 missing from current font.\n",
      "  font.set_text(s, 0, flags=flags)\n",
      "C:\\Users\\kyj\\anaconda3\\lib\\site-packages\\matplotlib\\backends\\backend_agg.py:201: RuntimeWarning: Glyph 51076 missing from current font.\n",
      "  font.set_text(s, 0, flags=flags)\n",
      "C:\\Users\\kyj\\anaconda3\\lib\\site-packages\\matplotlib\\backends\\backend_agg.py:201: RuntimeWarning: Glyph 44148 missing from current font.\n",
      "  font.set_text(s, 0, flags=flags)\n",
      "C:\\Users\\kyj\\anaconda3\\lib\\site-packages\\matplotlib\\backends\\backend_agg.py:201: RuntimeWarning: Glyph 47932 missing from current font.\n",
      "  font.set_text(s, 0, flags=flags)\n",
      "C:\\Users\\kyj\\anaconda3\\lib\\site-packages\\matplotlib\\backends\\backend_agg.py:201: RuntimeWarning: Glyph 44396 missing from current font.\n",
      "  font.set_text(s, 0, flags=flags)\n",
      "C:\\Users\\kyj\\anaconda3\\lib\\site-packages\\matplotlib\\backends\\backend_agg.py:201: RuntimeWarning: Glyph 48516 missing from current font.\n",
      "  font.set_text(s, 0, flags=flags)\n",
      "C:\\Users\\kyj\\anaconda3\\lib\\site-packages\\matplotlib\\backends\\backend_agg.py:201: RuntimeWarning: Glyph 50669 missing from current font.\n",
      "  font.set_text(s, 0, flags=flags)\n",
      "C:\\Users\\kyj\\anaconda3\\lib\\site-packages\\matplotlib\\backends\\backend_agg.py:201: RuntimeWarning: Glyph 44277 missing from current font.\n",
      "  font.set_text(s, 0, flags=flags)\n",
      "C:\\Users\\kyj\\anaconda3\\lib\\site-packages\\matplotlib\\backends\\backend_agg.py:201: RuntimeWarning: Glyph 44553 missing from current font.\n",
      "  font.set_text(s, 0, flags=flags)\n",
      "C:\\Users\\kyj\\anaconda3\\lib\\site-packages\\matplotlib\\backends\\backend_agg.py:201: RuntimeWarning: Glyph 50976 missing from current font.\n",
      "  font.set_text(s, 0, flags=flags)\n",
      "C:\\Users\\kyj\\anaconda3\\lib\\site-packages\\matplotlib\\backends\\backend_agg.py:201: RuntimeWarning: Glyph 54805 missing from current font.\n",
      "  font.set_text(s, 0, flags=flags)\n",
      "C:\\Users\\kyj\\anaconda3\\lib\\site-packages\\matplotlib\\backends\\backend_agg.py:201: RuntimeWarning: Glyph 51204 missing from current font.\n",
      "  font.set_text(s, 0, flags=flags)\n",
      "C:\\Users\\kyj\\anaconda3\\lib\\site-packages\\matplotlib\\backends\\backend_agg.py:201: RuntimeWarning: Glyph 50857 missing from current font.\n",
      "  font.set_text(s, 0, flags=flags)\n",
      "C:\\Users\\kyj\\anaconda3\\lib\\site-packages\\matplotlib\\backends\\backend_agg.py:201: RuntimeWarning: Glyph 47732 missing from current font.\n",
      "  font.set_text(s, 0, flags=flags)\n",
      "C:\\Users\\kyj\\anaconda3\\lib\\site-packages\\matplotlib\\backends\\backend_agg.py:201: RuntimeWarning: Glyph 51201 missing from current font.\n",
      "  font.set_text(s, 0, flags=flags)\n",
      "C:\\Users\\kyj\\anaconda3\\lib\\site-packages\\matplotlib\\backends\\backend_agg.py:201: RuntimeWarning: Glyph 48324 missing from current font.\n",
      "  font.set_text(s, 0, flags=flags)\n",
      "C:\\Users\\kyj\\anaconda3\\lib\\site-packages\\matplotlib\\backends\\backend_agg.py:201: RuntimeWarning: Glyph 44032 missing from current font.\n",
      "  font.set_text(s, 0, flags=flags)\n",
      "C:\\Users\\kyj\\anaconda3\\lib\\site-packages\\matplotlib\\backends\\backend_agg.py:201: RuntimeWarning: Glyph 51088 missing from current font.\n",
      "  font.set_text(s, 0, flags=flags)\n",
      "C:\\Users\\kyj\\anaconda3\\lib\\site-packages\\matplotlib\\backends\\backend_agg.py:201: RuntimeWarning: Glyph 44201 missing from current font.\n",
      "  font.set_text(s, 0, flags=flags)\n",
      "C:\\Users\\kyj\\anaconda3\\lib\\site-packages\\matplotlib\\backends\\backend_agg.py:201: RuntimeWarning: Glyph 48372 missing from current font.\n",
      "  font.set_text(s, 0, flags=flags)\n",
      "C:\\Users\\kyj\\anaconda3\\lib\\site-packages\\matplotlib\\backends\\backend_agg.py:201: RuntimeWarning: Glyph 51613 missing from current font.\n",
      "  font.set_text(s, 0, flags=flags)\n",
      "C:\\Users\\kyj\\anaconda3\\lib\\site-packages\\matplotlib\\backends\\backend_agg.py:201: RuntimeWarning: Glyph 44552 missing from current font.\n",
      "  font.set_text(s, 0, flags=flags)\n",
      "C:\\Users\\kyj\\anaconda3\\lib\\site-packages\\matplotlib\\backends\\backend_agg.py:201: RuntimeWarning: Glyph 47308 missing from current font.\n",
      "  font.set_text(s, 0, flags=flags)\n",
      "C:\\Users\\kyj\\anaconda3\\lib\\site-packages\\matplotlib\\backends\\backend_agg.py:201: RuntimeWarning: Glyph 46020 missing from current font.\n",
      "  font.set_text(s, 0, flags=flags)\n",
      "C:\\Users\\kyj\\anaconda3\\lib\\site-packages\\matplotlib\\backends\\backend_agg.py:201: RuntimeWarning: Glyph 44144 missing from current font.\n",
      "  font.set_text(s, 0, flags=flags)\n",
      "C:\\Users\\kyj\\anaconda3\\lib\\site-packages\\matplotlib\\backends\\backend_agg.py:201: RuntimeWarning: Glyph 47532 missing from current font.\n",
      "  font.set_text(s, 0, flags=flags)\n",
      "C:\\Users\\kyj\\anaconda3\\lib\\site-packages\\matplotlib\\backends\\backend_agg.py:201: RuntimeWarning: Glyph 45236 missing from current font.\n",
      "  font.set_text(s, 0, flags=flags)\n",
      "C:\\Users\\kyj\\anaconda3\\lib\\site-packages\\matplotlib\\backends\\backend_agg.py:201: RuntimeWarning: Glyph 54616 missing from current font.\n",
      "  font.set_text(s, 0, flags=flags)\n",
      "C:\\Users\\kyj\\anaconda3\\lib\\site-packages\\matplotlib\\backends\\backend_agg.py:201: RuntimeWarning: Glyph 52384 missing from current font.\n",
      "  font.set_text(s, 0, flags=flags)\n",
      "C:\\Users\\kyj\\anaconda3\\lib\\site-packages\\matplotlib\\backends\\backend_agg.py:201: RuntimeWarning: Glyph 54872 missing from current font.\n",
      "  font.set_text(s, 0, flags=flags)\n",
      "C:\\Users\\kyj\\anaconda3\\lib\\site-packages\\matplotlib\\backends\\backend_agg.py:201: RuntimeWarning: Glyph 49849 missing from current font.\n",
      "  font.set_text(s, 0, flags=flags)\n",
      "C:\\Users\\kyj\\anaconda3\\lib\\site-packages\\matplotlib\\backends\\backend_agg.py:201: RuntimeWarning: Glyph 45432 missing from current font.\n",
      "  font.set_text(s, 0, flags=flags)\n",
      "C:\\Users\\kyj\\anaconda3\\lib\\site-packages\\matplotlib\\backends\\backend_agg.py:201: RuntimeWarning: Glyph 49440 missing from current font.\n",
      "  font.set_text(s, 0, flags=flags)\n",
      "C:\\Users\\kyj\\anaconda3\\lib\\site-packages\\matplotlib\\backends\\backend_agg.py:201: RuntimeWarning: Glyph 48152 missing from current font.\n",
      "  font.set_text(s, 0, flags=flags)\n",
      "C:\\Users\\kyj\\anaconda3\\lib\\site-packages\\matplotlib\\backends\\backend_agg.py:201: RuntimeWarning: Glyph 50689 missing from current font.\n",
      "  font.set_text(s, 0, flags=flags)\n",
      "C:\\Users\\kyj\\anaconda3\\lib\\site-packages\\matplotlib\\backends\\backend_agg.py:201: RuntimeWarning: Glyph 48260 missing from current font.\n",
      "  font.set_text(s, 0, flags=flags)\n",
      "C:\\Users\\kyj\\anaconda3\\lib\\site-packages\\matplotlib\\backends\\backend_agg.py:201: RuntimeWarning: Glyph 49828 missing from current font.\n",
      "  font.set_text(s, 0, flags=flags)\n",
      "C:\\Users\\kyj\\anaconda3\\lib\\site-packages\\matplotlib\\backends\\backend_agg.py:201: RuntimeWarning: Glyph 51221 missing from current font.\n",
      "  font.set_text(s, 0, flags=flags)\n",
      "C:\\Users\\kyj\\anaconda3\\lib\\site-packages\\matplotlib\\backends\\backend_agg.py:201: RuntimeWarning: Glyph 47448 missing from current font.\n",
      "  font.set_text(s, 0, flags=flags)\n",
      "C:\\Users\\kyj\\anaconda3\\lib\\site-packages\\matplotlib\\backends\\backend_agg.py:201: RuntimeWarning: Glyph 51109 missing from current font.\n",
      "  font.set_text(s, 0, flags=flags)\n",
      "C:\\Users\\kyj\\anaconda3\\lib\\site-packages\\matplotlib\\backends\\backend_agg.py:201: RuntimeWarning: Glyph 51452 missing from current font.\n",
      "  font.set_text(s, 0, flags=flags)\n",
      "C:\\Users\\kyj\\anaconda3\\lib\\site-packages\\matplotlib\\backends\\backend_agg.py:201: RuntimeWarning: Glyph 52264 missing from current font.\n",
      "  font.set_text(s, 0, flags=flags)\n",
      "C:\\Users\\kyj\\anaconda3\\lib\\site-packages\\matplotlib\\backends\\backend_agg.py:201: RuntimeWarning: Glyph 46321 missing from current font.\n",
      "  font.set_text(s, 0, flags=flags)\n",
      "C:\\Users\\kyj\\anaconda3\\lib\\site-packages\\matplotlib\\backends\\backend_agg.py:201: RuntimeWarning: Glyph 47197 missing from current font.\n",
      "  font.set_text(s, 0, flags=flags)\n",
      "C:\\Users\\kyj\\anaconda3\\lib\\site-packages\\matplotlib\\backends\\backend_agg.py:201: RuntimeWarning: Glyph 47049 missing from current font.\n",
      "  font.set_text(s, 0, flags=flags)\n"
     ]
    },
    {
     "data": {
      "image/png": "[encoded data removed]",
      "text/plain": [
       "<Figure size 1800x720 with 2 Axes>"
      ]
     },
     "metadata": {
      "needs_background": "light"
     },
     "output_type": "display_data"
    }
   ],
   "source": [
    "%matplotlib inline\n",
    "msno.matrix(train)"
   ]
  },
  {
   "cell_type": "code",
   "execution_count": null,
   "id": "1eca7744",
   "metadata": {},
   "outputs": [],
   "source": []
  },
  {
   "cell_type": "markdown",
   "id": "3235b90b",
   "metadata": {},
   "source": [
    "## 결측치 처리 방안"
   ]
  },
  {
   "cell_type": "markdown",
   "id": "80a6911c",
   "metadata": {},
   "source": [
    "### 1. 임대보증금, 임대료, 도보 10분 내 거리 지하철 또는 버수의 수의 경우 단지코드, 지역, 공급유형, 전용면적, 전용면적 세대수 등의 값이 비슷한 유형에 맞춰 셋팅\n",
    "### 2. 도보 10분 내 거리 데이터는 서울, 경기, 광역시권 한정?(지하철이 있는 동네 한정)\n",
    "### 3. 기존 주차수요 예측에 대한 이해도 필요(법정주차대수, 장래주차수요 중 큰 값 선정)\n",
    "####   => 장래주차수요는 ‘주차원단위’와 ‘건축연면적’을 기초로하여 산출, ‘주차원단위’는 신규 건축예정유 부지 인근의 사 단지를 피크 시간대 방문하여 주차된 차량대수를 세는 방법\n",
    "#### => 피크 시간 방문 때는 언제? 출퇴근? 건축연면적은 변하지 않는 고정값으로 산정"
   ]
  }
 ],
 "metadata": {
  "kernelspec": {
   "display_name": "Python 3",
   "language": "python",
   "name": "python3"
  },
  "language_info": {
   "codemirror_mode": {
    "name": "ipython",
    "version": 3
   },
   "file_extension": ".py",
   "mimetype": "text/x-python",
   "name": "python",
   "nbconvert_exporter": "python",
   "pygments_lexer": "ipython3",
   "version": "3.8.8"
  }
 },
 "nbformat": 4,
 "nbformat_minor": 5
}
